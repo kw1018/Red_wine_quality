{
 "cells": [
  {
   "cell_type": "code",
   "execution_count": 21,
   "id": "7df6788e",
   "metadata": {},
   "outputs": [],
   "source": [
    "import pandas as pd \n",
    "import sklearn \n",
    "import numpy as np\n",
    "import matplotlib.pyplot as plt\n",
    "from sklearn.metrics import mean_squared_error, r2_score"
   ]
  },
  {
   "cell_type": "code",
   "execution_count": 22,
   "id": "f65e092b",
   "metadata": {},
   "outputs": [],
   "source": [
    "from sklearn.linear_model import LinearRegression\n",
    "\n",
    "model = LinearRegression()"
   ]
  },
  {
   "cell_type": "code",
   "execution_count": 4,
   "id": "a69087bc",
   "metadata": {},
   "outputs": [],
   "source": [
    "redwine = pd.read_csv('winequality-red.csv')"
   ]
  },
  {
   "cell_type": "code",
   "execution_count": 5,
   "id": "44cbe7a0",
   "metadata": {},
   "outputs": [
    {
     "data": {
      "text/html": [
       "<div>\n",
       "<style scoped>\n",
       "    .dataframe tbody tr th:only-of-type {\n",
       "        vertical-align: middle;\n",
       "    }\n",
       "\n",
       "    .dataframe tbody tr th {\n",
       "        vertical-align: top;\n",
       "    }\n",
       "\n",
       "    .dataframe thead th {\n",
       "        text-align: right;\n",
       "    }\n",
       "</style>\n",
       "<table border=\"1\" class=\"dataframe\">\n",
       "  <thead>\n",
       "    <tr style=\"text-align: right;\">\n",
       "      <th></th>\n",
       "      <th>fixed acidity</th>\n",
       "      <th>volatile acidity</th>\n",
       "      <th>citric acid</th>\n",
       "      <th>residual sugar</th>\n",
       "      <th>chlorides</th>\n",
       "      <th>free sulfur dioxide</th>\n",
       "      <th>total sulfur dioxide</th>\n",
       "      <th>density</th>\n",
       "      <th>pH</th>\n",
       "      <th>sulphates</th>\n",
       "      <th>alcohol</th>\n",
       "      <th>quality</th>\n",
       "    </tr>\n",
       "  </thead>\n",
       "  <tbody>\n",
       "    <tr>\n",
       "      <th>0</th>\n",
       "      <td>7.4</td>\n",
       "      <td>0.70</td>\n",
       "      <td>0.00</td>\n",
       "      <td>1.9</td>\n",
       "      <td>0.076</td>\n",
       "      <td>11.0</td>\n",
       "      <td>34.0</td>\n",
       "      <td>0.9978</td>\n",
       "      <td>3.51</td>\n",
       "      <td>0.56</td>\n",
       "      <td>9.4</td>\n",
       "      <td>5</td>\n",
       "    </tr>\n",
       "    <tr>\n",
       "      <th>1</th>\n",
       "      <td>7.8</td>\n",
       "      <td>0.88</td>\n",
       "      <td>0.00</td>\n",
       "      <td>2.6</td>\n",
       "      <td>0.098</td>\n",
       "      <td>25.0</td>\n",
       "      <td>67.0</td>\n",
       "      <td>0.9968</td>\n",
       "      <td>3.20</td>\n",
       "      <td>0.68</td>\n",
       "      <td>9.8</td>\n",
       "      <td>5</td>\n",
       "    </tr>\n",
       "    <tr>\n",
       "      <th>2</th>\n",
       "      <td>7.8</td>\n",
       "      <td>0.76</td>\n",
       "      <td>0.04</td>\n",
       "      <td>2.3</td>\n",
       "      <td>0.092</td>\n",
       "      <td>15.0</td>\n",
       "      <td>54.0</td>\n",
       "      <td>0.9970</td>\n",
       "      <td>3.26</td>\n",
       "      <td>0.65</td>\n",
       "      <td>9.8</td>\n",
       "      <td>5</td>\n",
       "    </tr>\n",
       "    <tr>\n",
       "      <th>3</th>\n",
       "      <td>11.2</td>\n",
       "      <td>0.28</td>\n",
       "      <td>0.56</td>\n",
       "      <td>1.9</td>\n",
       "      <td>0.075</td>\n",
       "      <td>17.0</td>\n",
       "      <td>60.0</td>\n",
       "      <td>0.9980</td>\n",
       "      <td>3.16</td>\n",
       "      <td>0.58</td>\n",
       "      <td>9.8</td>\n",
       "      <td>6</td>\n",
       "    </tr>\n",
       "    <tr>\n",
       "      <th>4</th>\n",
       "      <td>7.4</td>\n",
       "      <td>0.70</td>\n",
       "      <td>0.00</td>\n",
       "      <td>1.9</td>\n",
       "      <td>0.076</td>\n",
       "      <td>11.0</td>\n",
       "      <td>34.0</td>\n",
       "      <td>0.9978</td>\n",
       "      <td>3.51</td>\n",
       "      <td>0.56</td>\n",
       "      <td>9.4</td>\n",
       "      <td>5</td>\n",
       "    </tr>\n",
       "  </tbody>\n",
       "</table>\n",
       "</div>"
      ],
      "text/plain": [
       "   fixed acidity  volatile acidity  citric acid  residual sugar  chlorides  \\\n",
       "0            7.4              0.70         0.00             1.9      0.076   \n",
       "1            7.8              0.88         0.00             2.6      0.098   \n",
       "2            7.8              0.76         0.04             2.3      0.092   \n",
       "3           11.2              0.28         0.56             1.9      0.075   \n",
       "4            7.4              0.70         0.00             1.9      0.076   \n",
       "\n",
       "   free sulfur dioxide  total sulfur dioxide  density    pH  sulphates  \\\n",
       "0                 11.0                  34.0   0.9978  3.51       0.56   \n",
       "1                 25.0                  67.0   0.9968  3.20       0.68   \n",
       "2                 15.0                  54.0   0.9970  3.26       0.65   \n",
       "3                 17.0                  60.0   0.9980  3.16       0.58   \n",
       "4                 11.0                  34.0   0.9978  3.51       0.56   \n",
       "\n",
       "   alcohol  quality  \n",
       "0      9.4        5  \n",
       "1      9.8        5  \n",
       "2      9.8        5  \n",
       "3      9.8        6  \n",
       "4      9.4        5  "
      ]
     },
     "execution_count": 5,
     "metadata": {},
     "output_type": "execute_result"
    }
   ],
   "source": [
    "redwine.head()"
   ]
  },
  {
   "cell_type": "code",
   "execution_count": 6,
   "id": "a9403220",
   "metadata": {},
   "outputs": [
    {
     "name": "stdout",
     "output_type": "stream",
     "text": [
      "max 8\n",
      "min 3\n"
     ]
    }
   ],
   "source": [
    "print(f'max {redwine[\"quality\"].max()}')\n",
    "print(f'min {redwine[\"quality\"].min()}')"
   ]
  },
  {
   "cell_type": "code",
   "execution_count": 14,
   "id": "3b522bd9",
   "metadata": {},
   "outputs": [
    {
     "data": {
      "text/plain": [
       "Index(['fixed acidity', 'volatile acidity', 'citric acid', 'residual sugar',\n",
       "       'chlorides', 'free sulfur dioxide', 'total sulfur dioxide', 'density',\n",
       "       'pH', 'sulphates', 'alcohol', 'quality'],\n",
       "      dtype='object')"
      ]
     },
     "execution_count": 14,
     "metadata": {},
     "output_type": "execute_result"
    }
   ],
   "source": [
    "redwine.columns"
   ]
  },
  {
   "cell_type": "code",
   "execution_count": 15,
   "id": "82bb2476",
   "metadata": {},
   "outputs": [
    {
     "name": "stdout",
     "output_type": "stream",
     "text": [
      "[[-0.02385347408450822, 'fixed acidity'], [0.16878809983449006, 'volatile acidity'], [0.02479495166433343, 'citric acid'], [-0.03345939869249137, 'residual sugar'], [-0.012054960622460253, 'chlorides'], [-0.040720141990529424, 'free sulfur dioxide'], [-0.053948607203813115, 'total sulfur dioxide'], [-0.05501539112889109, 'density'], [-0.02972569440989692, 'pH'], [0.09093102557863775, 'sulphates'], [0.09642642077582808, 'alcohol']]\n",
      "0 0.16878809983449006\n",
      "1 0.09642642077582808\n",
      "2 0.09093102557863775\n",
      "3 0.02479495166433343\n",
      "4 -0.012054960622460253\n",
      "5 -0.02385347408450822\n",
      "6 -0.02972569440989692\n",
      "7 -0.03345939869249137\n",
      "8 -0.040720141990529424\n",
      "9 -0.053948607203813115\n",
      "10 -0.05501539112889109\n"
     ]
    }
   ],
   "source": [
    "r2_list = []\n",
    "\n",
    "colss = []\n",
    "\n",
    "for item in redwine.columns:\n",
    "    if item =='quality':\n",
    "        continue\n",
    "    else:\n",
    "        colss.append(item)\n",
    "\n",
    "for i in colss:\n",
    "    \n",
    "    df_taste = redwine[i].values.reshape(-1,1)\n",
    "    df_y = redwine['quality']\n",
    "\n",
    "    improved_model = LinearRegression()\n",
    "\n",
    "    training = df_taste[:int(0.8*len(df_taste))]\n",
    "    trainingwa = df_y[:int(0.8*len(df_y))]\n",
    "\n",
    "    testing = df_taste[int(0.8*len(df_taste)):]\n",
    "    testingwa = df_y[int(0.8*len(df_y)):]\n",
    "\n",
    "    improved_model.fit(training, trainingwa)\n",
    "\n",
    "    predwa = improved_model.predict(testing)\n",
    "    mse = mean_squared_error(testingwa, predwa)\n",
    "\n",
    "    r2 = r2_score(testingwa, predwa)\n",
    "    r2_list.append([r2,i])\n",
    "    \n",
    "\n",
    "    \n",
    "print(r2_list)\n",
    "\n",
    "r2_list_sort = []\n",
    "\n",
    "n = 0\n",
    "\n",
    "for i in r2_list:\n",
    "    i = i[0]\n",
    "    r2_list_sort.append(i)\n",
    "    \n",
    "r2_list_sort.sort(reverse=True)\n",
    "\n",
    "for i, item in enumerate(r2_list_sort):\n",
    "    print(i, item)\n",
    "    "
   ]
  },
  {
   "cell_type": "code",
   "execution_count": 16,
   "id": "4727eeb1",
   "metadata": {},
   "outputs": [
    {
     "name": "stdout",
     "output_type": "stream",
     "text": [
      "MSE for unseen data: 0.6200712602424302\n",
      "R-squared: -0.02385347408450822\n",
      "MSE for unseen data: 0.5034027070377369\n",
      "R-squared: 0.16878809983449006\n",
      "MSE for unseen data: 0.590608557398288\n",
      "R-squared: 0.02479495166433343\n",
      "MSE for unseen data: 0.6258888483331401\n",
      "R-squared: -0.03345939869249137\n",
      "MSE for unseen data: 0.6129257855269775\n",
      "R-squared: -0.012054960622460253\n",
      "MSE for unseen data: 0.6302861359930143\n",
      "R-squared: -0.040720141990529424\n",
      "MSE for unseen data: 0.6382976252378093\n",
      "R-squared: -0.053948607203813115\n",
      "MSE for unseen data: 0.6389436962524345\n",
      "R-squared: -0.05501539112889109\n",
      "MSE for unseen data: 0.6236276236769938\n",
      "R-squared: -0.02972569440989692\n",
      "MSE for unseen data: 0.5505548976339375\n",
      "R-squared: 0.09093102557863775\n",
      "MSE for unseen data: 0.547226748917639\n",
      "R-squared: 0.09642642077582808\n",
      "Feature: volatile acidity, R-squared: 0.16878809983449006\n",
      "Feature: alcohol, R-squared: 0.09642642077582808\n",
      "Feature: sulphates, R-squared: 0.09093102557863775\n",
      "Feature: citric acid, R-squared: 0.02479495166433343\n",
      "Feature: chlorides, R-squared: -0.012054960622460253\n",
      "Feature: fixed acidity, R-squared: -0.02385347408450822\n",
      "Feature: pH, R-squared: -0.02972569440989692\n",
      "Feature: residual sugar, R-squared: -0.03345939869249137\n",
      "Feature: free sulfur dioxide, R-squared: -0.040720141990529424\n",
      "Feature: total sulfur dioxide, R-squared: -0.053948607203813115\n",
      "Feature: density, R-squared: -0.05501539112889109\n"
     ]
    }
   ],
   "source": [
    "from sklearn.linear_model import LinearRegression\n",
    "from sklearn.metrics import mean_squared_error, r2_score\n",
    "\n",
    "\n",
    "#gather data on each individual variable to be able to gain a idea of\n",
    "# \"the weight each variable takes\"\n",
    "r2_list = []\n",
    "colss = []\n",
    "\n",
    "for item in redwine.columns:\n",
    "    if item == 'quality':\n",
    "        continue\n",
    "    else:\n",
    "        colss.append(item)\n",
    "\n",
    "for i, col in enumerate(colss):\n",
    "    df_taste = redwine[[col]]\n",
    "    df_y = redwine['quality']\n",
    "\n",
    "    improved_model = LinearRegression()\n",
    "\n",
    "    training = df_taste.iloc[:int(0.8*len(df_taste))]\n",
    "    trainingwa = df_y.iloc[:int(0.8*len(df_y))]\n",
    "\n",
    "    testing = df_taste.iloc[int(0.8*len(df_taste)):]\n",
    "    testingwa = df_y.iloc[int(0.8*len(df_y)):]\n",
    "\n",
    "    improved_model.fit(training, trainingwa)\n",
    "\n",
    "    predwa = improved_model.predict(testing)\n",
    "    mse = mean_squared_error(testingwa, predwa)\n",
    "\n",
    "    print(f\"MSE for unseen data: {mse}\")\n",
    "\n",
    "    r2 = r2_score(testingwa, predwa)\n",
    "    print(\"R-squared:\", r2)\n",
    "    \n",
    "    r2_list.append((r2, col))\n",
    "\n",
    "# Sort the list in descending order of R-squared values\n",
    "r2_list.sort(reverse=True)\n",
    "\n",
    "# Print the R-squared values for each feature in descending order\n",
    "for r2, col in r2_list:\n",
    "    print(f\"Feature: {col}, R-squared: {r2}\")\n"
   ]
  },
  {
   "cell_type": "code",
   "execution_count": 20,
   "id": "47eca138",
   "metadata": {},
   "outputs": [
    {
     "name": "stdout",
     "output_type": "stream",
     "text": [
      "MSE: 0.43152246279404205\n",
      "0.6569036936979743\n",
      "R-squared: 0.2874758096280007\n"
     ]
    }
   ],
   "source": [
    "# now gather all the possible variables to get a idea of how the model prefoms with a \n",
    "# multivarient analysis\n",
    "\n",
    "train_data = redwine.drop(\"quality\", axis = 1)\n",
    "train_data = train_data.iloc[:int(0.8*len(redwine))]\n",
    "train_target = redwine[\"quality\"].iloc[:int(0.8*len(redwine))]\n",
    "\n",
    "test_data = redwine.drop(\"quality\", axis = 1)\n",
    "test_data = test_data.iloc[int(0.8*len(redwine)):]\n",
    "test_target = redwine[\"quality\"].iloc[int(0.8*len(redwine)):]\n",
    "\n",
    "model.fit(train_data, train_target)\n",
    "\n",
    "pred = model.predict(test_data)\n",
    "\n",
    "mse = mean_squared_error(test_target, pred)\n",
    "\n",
    "print(f'MSE: {mse}')\n",
    "\n",
    "rsme = np.sqrt(mse)\n",
    "\n",
    "print(rsme)\n",
    "\n",
    "r2 = r2_score(test_target, pred)\n",
    "print(\"R-squared:\", r2)\n"
   ]
  },
  {
   "cell_type": "code",
   "execution_count": 23,
   "id": "af4f940a",
   "metadata": {},
   "outputs": [
    {
     "data": {
      "image/png": "[encoded data removed]",
      "text/plain": [
       "<Figure size 640x480 with 1 Axes>"
      ]
     },
     "metadata": {},
     "output_type": "display_data"
    }
   ],
   "source": [
    "# analyse the residual values\n",
    "# using a scatter plot \n",
    "\n",
    "residuals = test_target - pred\n",
    "\n",
    "plt.scatter(pred, residuals)\n",
    "plt.title('Residual Plot')\n",
    "plt.xlabel('Predicted Values')\n",
    "plt.ylabel('Residuals')\n",
    "\n",
    "# Plot a horizontal line at y = 0\n",
    "plt.axhline(y=0, color='r', linestyle='--')\n",
    "\n",
    "plt.show()\n",
    "\n"
   ]
  },
  {
   "cell_type": "code",
   "execution_count": 24,
   "id": "76a66a20",
   "metadata": {},
   "outputs": [
    {
     "data": {
      "image/png": "[encoded data removed]",
      "text/plain": [
       "<Figure size 640x480 with 1 Axes>"
      ]
     },
     "metadata": {},
     "output_type": "display_data"
    }
   ],
   "source": [
    "# this shows that some of the values are not being captured \n",
    "# check for normal distribution \n",
    "\n",
    "plt.hist(residuals, bins=20, edgecolor='black')\n",
    "plt.title('Histogram of Residuals')\n",
    "plt.xlabel('Residuals')\n",
    "plt.ylabel('Frequency')\n",
    "plt.show()"
   ]
  },
  {
   "cell_type": "code",
   "execution_count": 25,
   "id": "e800051b",
   "metadata": {},
   "outputs": [],
   "source": [
    "# slight bell curve around 0 but could be improved "
   ]
  },
  {
   "cell_type": "code",
   "execution_count": 31,
   "id": "06397852",
   "metadata": {},
   "outputs": [
    {
     "name": "stdout",
     "output_type": "stream",
     "text": [
      "please select 3 traits to choose from\n",
      "1 fixed acidity\n",
      "2 volatile acidity\n",
      "3 citric acid\n",
      "4 residual sugar\n",
      "5 chlorides\n",
      "6 free sulfur dioxide\n",
      "7 total sulfur dioxide\n",
      "8 density\n",
      "9 pH\n",
      "10 sulphates\n",
      "11 alcohol\n",
      "please choose from the corresponding numbers \n",
      "choice 1: 9\n",
      "choice 2: 10\n",
      "choice 3: 11\n",
      "Alright people im getting thirsty!\n",
      "      Give me the data for each option and i can rate the quality of the wine!\n",
      "data for pH: 3.5\n",
      "data for sulphates: 0.75\n",
      "data for alcohol: 9.37\n",
      "This is the predicted quality of your wine! [5.22739799]\n"
     ]
    }
   ],
   "source": [
    "# creating user input\n",
    "\n",
    "print(\"please select 3 traits to choose from\")\n",
    "\n",
    "for i, item in enumerate(colss,start=1,):\n",
    "    print(i, item)\n",
    "    \n",
    "print(\"please choose from the corresponding numbers \")\n",
    "    \n",
    "user_choice_1 = input(\"choice 1: \")\n",
    "user_choice_2 = input(\"choice 2: \")\n",
    "user_choice_3 = input(\"choice 3: \")\n",
    "\n",
    "user_choice_1 = int(user_choice_1) - 1\n",
    "user_choice_2 = int(user_choice_2) - 1\n",
    "user_choice_3 = int(user_choice_3) - 1\n",
    "\n",
    "def create_model(u1, u2, u3, colss, dataframe1):\n",
    "    \n",
    "    user_model = LinearRegression()\n",
    "    \n",
    "    df = dataframe1[[colss[u1],colss[u2],colss[u3], \"quality\"]]\n",
    "    \n",
    "    train_data = df[[colss[u1],colss[u2],colss[u3]]].iloc[:int(0.8*len(df))]\n",
    "    train_target = df[\"quality\"].iloc[:int(0.8*len(df))]\n",
    "\n",
    "    test_data = df[[colss[u1],colss[u2],colss[u3]]].iloc[int(0.8*len(df)):]\n",
    "    test_target = df[\"quality\"].iloc[int(0.8*len(df)):]\n",
    "    user_model.fit(train_data, train_target)\n",
    "    \n",
    "    return user_model\n",
    "    \n",
    "    \n",
    "user_model = create_model(user_choice_1,user_choice_2,user_choice_3, colss, redwine)\n",
    "\n",
    "print('''Alright people im getting thirsty!\n",
    "      Give me the data for each option and i can rate the quality of the wine!''')\n",
    "\n",
    "data_u1 = input(f'data for {colss[user_choice_1]}: ')\n",
    "data_u2 = input(f'data for {colss[user_choice_2]}: ')\n",
    "data_u3 = input(f'data for {colss[user_choice_3]}: ')\n",
    "\n",
    "data_u1 = float(data_u1)\n",
    "data_u2 = float(data_u2)\n",
    "data_u3 = float(data_u3)\n",
    "\n",
    "def model_prediction(d1,d2,d3,u1,u2,u3,colss,user_model):\n",
    "    \n",
    "    user_data = pd.DataFrame({\n",
    "        colss[u1]:[d1],\n",
    "        colss[u2]:[d2],\n",
    "        colss[u3]:[d3],\n",
    "    })\n",
    "        \n",
    "    model_response = user_model.predict(user_data)\n",
    "    return model_response\n",
    "\n",
    "model_response = model_prediction(data_u1, data_u2, data_u3, user_choice_1,user_choice_2,user_choice_3, colss, user_model)\n",
    "\n",
    "print(f'This is the predicted quality of your wine! {model_response}')\n",
    "    \n",
    "    "
   ]
  },
  {
   "cell_type": "code",
   "execution_count": 32,
   "id": "cdc1482c",
   "metadata": {},
   "outputs": [
    {
     "data": {
      "text/plain": [
       "(1599, 12)"
      ]
     },
     "execution_count": 32,
     "metadata": {},
     "output_type": "execute_result"
    }
   ],
   "source": [
    "# P. Cortez, A. Cerdeira, F. Almeida, T. Matos and J. Reis. \n",
    "# Modeling wine preferences by data mining from physicochemical properties. \n",
    "# In Decision Support Systems, Elsevier, 47(4):547-553, 2009."
   ]
  },
  {
   "cell_type": "code",
   "execution_count": null,
   "id": "200343f4",
   "metadata": {},
   "outputs": [],
   "source": []
  }
 ],
 "metadata": {
  "kernelspec": {
   "display_name": "Python 3 (ipykernel)",
   "language": "python",
   "name": "python3"
  },
  "language_info": {
   "codemirror_mode": {
    "name": "ipython",
    "version": 3
   },
   "file_extension": ".py",
   "mimetype": "text/x-python",
   "name": "python",
   "nbconvert_exporter": "python",
   "pygments_lexer": "ipython3",
   "version": "3.10.9"
  }
 },
 "nbformat": 4,
 "nbformat_minor": 5
}
